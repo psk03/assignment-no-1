{
 "cells": [
  {
   "cell_type": "markdown",
   "id": "db0633dd",
   "metadata": {},
   "source": [
    "Ans1)"
   ]
  },
  {
   "cell_type": "code",
   "execution_count": 2,
   "id": "4c66d691",
   "metadata": {},
   "outputs": [
    {
     "name": "stdout",
     "output_type": "stream",
     "text": [
      "Enter the Word:incredible\n",
      "incredible in... in... incredible?\n",
      "Enter the Word:enthusiastic\n",
      "enthusiastic en... en... enthusiastic?\n",
      "Enter the Word:outstanding\n",
      "outstanding ou... ou... outstanding?\n"
     ]
    }
   ],
   "source": [
    "def stutterWord():\n",
    "    in_string = input('Enter the Word:')\n",
    "    out_string = in_string.replace(in_string[0:2],((in_string[0:2]+'... ')*2) + in_string[0:2])  +'?'\n",
    "    print(f'{in_string} {out_string}')\n",
    "    \n",
    "for i in range(3):\n",
    "    stutterWord()"
   ]
  },
  {
   "cell_type": "markdown",
   "id": "d3a31a3b",
   "metadata": {},
   "source": [
    "Ans2)"
   ]
  },
  {
   "cell_type": "code",
   "execution_count": 5,
   "id": "1bc4d355",
   "metadata": {},
   "outputs": [
    {
     "name": "stdout",
     "output_type": "stream",
     "text": [
      "Enter the angle in radians:1\n",
      "1 radians(s)  57.3 degrees\n",
      "Enter the angle in radians:20\n",
      "20 radians(s)  1145.9 degrees\n",
      "Enter the angle in radians:50\n",
      "50 radians(s)  2864.8 degrees\n"
     ]
    }
   ],
   "source": [
    "import math\n",
    "def radianToDegree():\n",
    "    in_num = int(input('Enter the angle in radians:'))\n",
    "    out_num = (180/math.pi)*in_num\n",
    "    print(f'{in_num} radians(s)  {out_num:.1f} degrees')\n",
    "    \n",
    "for x in range(3):\n",
    "    radianToDegree()"
   ]
  },
  {
   "cell_type": "markdown",
   "id": "caed73be",
   "metadata": {},
   "source": [
    "Ans3)"
   ]
  },
  {
   "cell_type": "code",
   "execution_count": 8,
   "id": "4ff63e5c",
   "metadata": {},
   "outputs": [
    {
     "name": "stdout",
     "output_type": "stream",
     "text": [
      "Enter a number:5\n",
      "5 is a Curzon Number\n",
      "Enter a number:10\n",
      "10 is not a Curzon Number\n",
      "Enter a number:14\n",
      "14 is a Curzon Number\n",
      "Enter a number:15\n",
      "15 is not a Curzon Number\n"
     ]
    }
   ],
   "source": [
    "def checkCurzon():\n",
    "    in_num = int(input('Enter a number:'))\n",
    "    if(pow(2,in_num)+1)%((2*in_num)+1) == 0:\n",
    "        print(f'{in_num} is a Curzon Number')\n",
    "    else:\n",
    "        print(f'{in_num} is not a Curzon Number')\n",
    "        \n",
    "for x in range(4):\n",
    "    checkCurzon()"
   ]
  },
  {
   "cell_type": "markdown",
   "id": "e0e51e1c",
   "metadata": {},
   "source": [
    "Ans4)"
   ]
  },
  {
   "cell_type": "code",
   "execution_count": 10,
   "id": "48f550b8",
   "metadata": {},
   "outputs": [
    {
     "name": "stdout",
     "output_type": "stream",
     "text": [
      "Enter the length of a Hexagon:1\n",
      "Area of hexagon of sidelength 1  2.598076\n",
      "Enter the length of a Hexagon:2\n",
      "Area of hexagon of sidelength 2  10.392305\n",
      "Enter the length of a Hexagon:3\n",
      "Area of hexagon of sidelength 3  23.382686\n"
     ]
    }
   ],
   "source": [
    "import math\n",
    "def areaofHexagon():\n",
    "    in_num = int(input('Enter the length of a Hexagon:'))\n",
    "    out_num = ((3*math.sqrt(3))/2)*(pow(in_num,2))\n",
    "    print(f'Area of hexagon of sidelength {in_num}  {out_num:1f}')\n",
    "          \n",
    "for x in range(3):\n",
    "          areaofHexagon()"
   ]
  },
  {
   "cell_type": "markdown",
   "id": "234d5e66",
   "metadata": {},
   "source": [
    "Ans5)"
   ]
  },
  {
   "cell_type": "code",
   "execution_count": 12,
   "id": "377a4067",
   "metadata": {},
   "outputs": [
    {
     "name": "stdout",
     "output_type": "stream",
     "text": [
      "Enter a Number: 1\n",
      "Binary of 1 ➞ 1\n",
      "Enter a Number: 5\n",
      "Binary of 5 ➞ 101\n",
      "Enter a Number: 10\n",
      "Binary of 10 ➞ 1010\n"
     ]
    }
   ],
   "source": [
    "def getBinary():\n",
    "    in_num = int(input(\"Enter a Number: \"))\n",
    "    out_num = bin(in_num).replace('0b','') \n",
    "    print(f'Binary of {in_num} ➞ {out_num}')\n",
    "\n",
    "for x in range(3):\n",
    "    getBinary()"
   ]
  }
 ],
 "metadata": {
  "kernelspec": {
   "display_name": "Python 3 (ipykernel)",
   "language": "python",
   "name": "python3"
  },
  "language_info": {
   "codemirror_mode": {
    "name": "ipython",
    "version": 3
   },
   "file_extension": ".py",
   "mimetype": "text/x-python",
   "name": "python",
   "nbconvert_exporter": "python",
   "pygments_lexer": "ipython3",
   "version": "3.9.12"
  }
 },
 "nbformat": 4,
 "nbformat_minor": 5
}
