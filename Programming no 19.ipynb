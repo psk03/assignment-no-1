{
 "cells": [
  {
   "cell_type": "markdown",
   "id": "966d16f1",
   "metadata": {},
   "source": [
    "Ans1)"
   ]
  },
  {
   "cell_type": "code",
   "execution_count": 3,
   "id": "63d0f4d8",
   "metadata": {},
   "outputs": [
    {
     "name": "stdout",
     "output_type": "stream",
     "text": [
      "SSttrriinngg\n",
      "HHeelllloo  WWoorrlldd!!\n",
      "11223344!!__\n"
     ]
    }
   ],
   "source": [
    "def double_char(in_string):\n",
    "    out_string = ''\n",
    "    for ele in  in_string:\n",
    "        out_string += ele*2\n",
    "    return out_string\n",
    "\n",
    "print(f'{double_char(\"String\")}')\n",
    "print(f'{double_char(\"Hello World!\")}')\n",
    "print(f'{double_char(\"1234!_\")}')"
   ]
  },
  {
   "cell_type": "markdown",
   "id": "aa7a93c0",
   "metadata": {},
   "source": [
    "Ans2)"
   ]
  },
  {
   "cell_type": "code",
   "execution_count": 4,
   "id": "98f54e5a",
   "metadata": {},
   "outputs": [
    {
     "name": "stdout",
     "output_type": "stream",
     "text": [
      "reverse(True) ➞ False\n",
      "reverse(False) ➞ True\n",
      "reverse(0) ➞ Boolean Excepted\n",
      "reverse(None) ➞ Boolean Excepted\n"
     ]
    }
   ],
   "source": [
    "def reverse(in_bool):\n",
    "    if type(in_bool) == bool:\n",
    "        return not in_bool\n",
    "    else:\n",
    "        return \"Boolean Excepted\"\n",
    "    \n",
    "print(f'reverse(True) ➞ {reverse(True)}')\n",
    "    \n",
    "print(f'reverse(False) ➞ {reverse(False)}')\n",
    "    \n",
    "print(f'reverse(0) ➞ {reverse(0)}')\n",
    "print(f'reverse(None) ➞ {reverse(None)}')"
   ]
  },
  {
   "cell_type": "markdown",
   "id": "93e32b03",
   "metadata": {},
   "source": [
    "Ans3)"
   ]
  },
  {
   "cell_type": "code",
   "execution_count": 5,
   "id": "750e569b",
   "metadata": {},
   "outputs": [
    {
     "name": "stdout",
     "output_type": "stream",
     "text": [
      "Output 0.001m\n",
      "Output 0.008m\n",
      "Output 1048.576m\n"
     ]
    }
   ],
   "source": [
    "def num_layers(in_num):\n",
    "    out_num = 0.5\n",
    "    for ele in range(in_num):\n",
    "        out_num *= 2\n",
    "    print(f'Output {out_num/1000}m')\n",
    "    \n",
    "num_layers(1)\n",
    "num_layers(4)\n",
    "num_layers(21)"
   ]
  },
  {
   "cell_type": "markdown",
   "id": "0da05557",
   "metadata": {},
   "source": [
    "Ans4)"
   ]
  },
  {
   "cell_type": "code",
   "execution_count": 11,
   "id": "fb9112c7",
   "metadata": {},
   "outputs": [
    {
     "name": "stdout",
     "output_type": "stream",
     "text": [
      "eDaBiT []\n",
      "eDaBiT [1]\n",
      "eDaBiT [1]\n",
      "eDaBiT [1, 3]\n",
      "eDaBiT [1, 3]\n",
      "eDaBiT [1, 3, 5]\n",
      "eQuINoX []\n",
      "eQuINoX [1]\n",
      "eQuINoX [1]\n",
      "eQuINoX [1, 3]\n",
      "eQuINoX [1, 3, 4]\n",
      "eQuINoX [1, 3, 4]\n",
      "eQuINoX [1, 3, 4, 6]\n",
      "determine []\n",
      "determine []\n",
      "determine []\n",
      "determine []\n",
      "determine []\n",
      "determine []\n",
      "determine []\n",
      "determine []\n",
      "determine []\n",
      "STRIKE [0]\n",
      "STRIKE [0, 1]\n",
      "STRIKE [0, 1, 2]\n",
      "STRIKE [0, 1, 2, 3]\n",
      "STRIKE [0, 1, 2, 3, 4]\n",
      "STRIKE [0, 1, 2, 3, 4, 5]\n",
      "sUn []\n",
      "sUn [1]\n",
      "sUn [1]\n"
     ]
    }
   ],
   "source": [
    "def index_of_caps(in_string):\n",
    "    out_string = []\n",
    "    for ele in in_string:\n",
    "        if ele.isupper():\n",
    "            out_string.append(in_string.index(ele))\n",
    "        print(f'{in_string} {out_string}')\n",
    "        \n",
    "index_of_caps(\"eDaBiT\")\n",
    "index_of_caps(\"eQuINoX\")\n",
    "index_of_caps(\"determine\")\n",
    "index_of_caps(\"STRIKE\")\n",
    "index_of_caps(\"sUn\")"
   ]
  },
  {
   "cell_type": "markdown",
   "id": "00b4ee6f",
   "metadata": {},
   "source": [
    "Ans5)"
   ]
  },
  {
   "cell_type": "code",
   "execution_count": 7,
   "id": "c7d141fa",
   "metadata": {},
   "outputs": [
    {
     "name": "stdout",
     "output_type": "stream",
     "text": [
      "Output ➞ [2, 4, 6, 8]\n",
      "Output ➞ [2, 4]\n",
      "Output ➞ [2]\n"
     ]
    }
   ],
   "source": [
    "def find_even_nums(in_num):\n",
    "    out_list = [i for i in range(1,in_num+1) if i%2 == 0]\n",
    "    print(f'Output ➞ {out_list}')\n",
    "    \n",
    "find_even_nums(8)\n",
    "find_even_nums(4)\n",
    "find_even_nums(2)"
   ]
  }
 ],
 "metadata": {
  "kernelspec": {
   "display_name": "Python 3 (ipykernel)",
   "language": "python",
   "name": "python3"
  },
  "language_info": {
   "codemirror_mode": {
    "name": "ipython",
    "version": 3
   },
   "file_extension": ".py",
   "mimetype": "text/x-python",
   "name": "python",
   "nbconvert_exporter": "python",
   "pygments_lexer": "ipython3",
   "version": "3.9.12"
  }
 },
 "nbformat": 4,
 "nbformat_minor": 5
}
