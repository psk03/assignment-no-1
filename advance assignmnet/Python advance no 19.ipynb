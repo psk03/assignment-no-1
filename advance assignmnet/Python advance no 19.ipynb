{
 "cells": [
  {
   "cell_type": "markdown",
   "id": "ca4f0d5e",
   "metadata": {},
   "source": [
    "### Assignment 19 Solutions"
   ]
  },
  {
   "cell_type": "markdown",
   "id": "37527665",
   "metadata": {},
   "source": [
    "### Q1. Define the relationship between a class and its instances. Is it a one-to-one or a one-to-many partnership, for example?"
   ]
  },
  {
   "cell_type": "markdown",
   "id": "d1fda00d",
   "metadata": {},
   "source": [
    "### Ans"
   ]
  },
  {
   "cell_type": "markdown",
   "id": "5486c61d",
   "metadata": {},
   "source": [
    "Relationship between a class and its instances is a one to many partnership."
   ]
  },
  {
   "cell_type": "markdown",
   "id": "4672e071",
   "metadata": {},
   "source": [
    "### Q2. What kind of data is held only in an instance?"
   ]
  },
  {
   "cell_type": "markdown",
   "id": "6d1710e3",
   "metadata": {},
   "source": [
    "### Ans"
   ]
  },
  {
   "cell_type": "markdown",
   "id": "18fb2e72",
   "metadata": {},
   "source": [
    "Instance objects contains the Instance variables which are specific to that specific Instance object."
   ]
  },
  {
   "cell_type": "markdown",
   "id": "ffe3b34f",
   "metadata": {},
   "source": [
    "### Q3. What kind of knowledge is stored in a class?"
   ]
  },
  {
   "cell_type": "markdown",
   "id": "a15eb4f1",
   "metadata": {},
   "source": [
    "### Ans"
   ]
  },
  {
   "cell_type": "markdown",
   "id": "506857b7",
   "metadata": {},
   "source": [
    " Class creates a user-defined data structure, which holds its own data members and member functions, which can be accessed and used by creating an instance of that class. A class is like a blueprint for an object."
   ]
  },
  {
   "cell_type": "markdown",
   "id": "3cf0b5c4",
   "metadata": {},
   "source": [
    "### Q4. What exactly is a method, and how is it different from a regular function?"
   ]
  },
  {
   "cell_type": "markdown",
   "id": "ac4e2933",
   "metadata": {},
   "source": [
    "### Ans"
   ]
  },
  {
   "cell_type": "markdown",
   "id": "3312d783",
   "metadata": {},
   "source": [
    "The methods with a class can be used to access the insatnce variables of its instance. So,the object's state can be modified by its method. Function can't access the attributes of an instance of a class or can't modify the state of the object."
   ]
  },
  {
   "cell_type": "markdown",
   "id": "5be77f03",
   "metadata": {},
   "source": [
    "### Q5. Is inheritance supported in Python, and if so, what is the syntax?"
   ]
  },
  {
   "cell_type": "markdown",
   "id": "75227c4f",
   "metadata": {},
   "source": [
    "### Ans"
   ]
  },
  {
   "cell_type": "markdown",
   "id": "be3d3f80",
   "metadata": {},
   "source": [
    "Yes,Python supports inheritance. The Types of Inheritence Supported by Python are:"
   ]
  },
  {
   "cell_type": "markdown",
   "id": "304f081a",
   "metadata": {},
   "source": [
    "Simple Inheritence\n",
    "\n",
    "Multiple Inheritence\n",
    "\n",
    "Multilevel lInheritence\n",
    "\n",
    "Hybrid Inheritence\n",
    "\n",
    "Hierracial Inheritence"
   ]
  },
  {
   "cell_type": "code",
   "execution_count": 1,
   "id": "905349a7",
   "metadata": {},
   "outputs": [],
   "source": [
    "class Person:\n",
    "    def __init__(self, fname, lname):\n",
    "        self.first_name = fname\n",
    "        self.last_name = lname\n",
    "class Student(Person):\n",
    "    pass"
   ]
  },
  {
   "cell_type": "markdown",
   "id": "02db22dd",
   "metadata": {},
   "source": [
    "### Q6. How much encapsulation (making instance or class variables private) does Python support?"
   ]
  },
  {
   "cell_type": "markdown",
   "id": "6b9f6fee",
   "metadata": {},
   "source": [
    "### Ans"
   ]
  },
  {
   "cell_type": "markdown",
   "id": "6e5ee783",
   "metadata": {},
   "source": [
    " Encapsulation describes the idea of wrapping data and the methods that work on data within one unit. This puts restrictions on accessing variables and methods directly and can prevent the accidental modification of data. To prevent accidental change, an objects variable can only be changed by an objects method."
   ]
  },
  {
   "cell_type": "markdown",
   "id": "40540ff4",
   "metadata": {},
   "source": [
    "### Q7. How do you distinguish between a class variable and an instance variable?"
   ]
  },
  {
   "cell_type": "markdown",
   "id": "632c9a12",
   "metadata": {},
   "source": [
    "### Ans"
   ]
  },
  {
   "cell_type": "markdown",
   "id": "a3f56431",
   "metadata": {},
   "source": [
    "The Class Attribute is available to all the instance objects of that class. whereas Instance Attributes are accessible only to the object or Instance of that class.\n",
    "\n",
    "A single copy of Class attributes is maintained by pvm at the class level. Whereas difference copies of instance attributes are maintained by pvm at objects/instance level."
   ]
  },
  {
   "cell_type": "markdown",
   "id": "e40e9075",
   "metadata": {},
   "source": [
    "### Q8. When, if ever, can self be included in a class's method definitions?"
   ]
  },
  {
   "cell_type": "markdown",
   "id": "08a54ede",
   "metadata": {},
   "source": [
    "### Ans"
   ]
  },
  {
   "cell_type": "markdown",
   "id": "23bc3110",
   "metadata": {},
   "source": [
    " Yes, self can included in class method definations to access the instance variables inside class methods."
   ]
  },
  {
   "cell_type": "markdown",
   "id": "4008ffd7",
   "metadata": {},
   "source": [
    "### Q9. What is the difference between the __add__ and the __radd__ methods ?"
   ]
  },
  {
   "cell_type": "markdown",
   "id": "f0b3e5e1",
   "metadata": {},
   "source": [
    "### Ans"
   ]
  },
  {
   "cell_type": "markdown",
   "id": "98dbcc57",
   "metadata": {},
   "source": [
    " Entering __radd__ Python will first try __add__(), and if that returns Not Implemented Python will check if the right-hand operand implements __radd__, and if it does, it will call __radd__() rather than raising a TypeError"
   ]
  },
  {
   "cell_type": "markdown",
   "id": "36e3c1c7",
   "metadata": {},
   "source": [
    "### Q10. When is it necessary to use a reflection method? When do you not need it, even though you support the operation in question?"
   ]
  },
  {
   "cell_type": "markdown",
   "id": "98f3680e",
   "metadata": {},
   "source": [
    "### Ans"
   ]
  },
  {
   "cell_type": "markdown",
   "id": "b2eeb4f7",
   "metadata": {},
   "source": [
    "Reflection method we often encounter the requirement that a method in the executing object, or a variable in the calling object, or a field of the object should be assigned, while the method name or field name can not be determined when encoding the code, and need to be input in the form of passing strings through parameters."
   ]
  },
  {
   "cell_type": "markdown",
   "id": "2b125fb0",
   "metadata": {},
   "source": [
    "### Q11. What is the __iadd__ method called?"
   ]
  },
  {
   "cell_type": "markdown",
   "id": "39b5a32b",
   "metadata": {},
   "source": [
    "### Ans"
   ]
  },
  {
   "cell_type": "markdown",
   "id": "648cead4",
   "metadata": {},
   "source": [
    "__iadd__ method is called when we use implementation like a+=b which is a.__iadd__(b)"
   ]
  },
  {
   "cell_type": "markdown",
   "id": "50b631b7",
   "metadata": {},
   "source": [
    "### Q12. Is the _ _init_ _ method inherited by subclasses? What do you do if you need to customize its behavior within a subclass ?"
   ]
  },
  {
   "cell_type": "markdown",
   "id": "265789f6",
   "metadata": {},
   "source": [
    "### Ans"
   ]
  },
  {
   "cell_type": "markdown",
   "id": "efa136c2",
   "metadata": {},
   "source": [
    "Yes, __init__ method will be inherited by subclasses. if we want to customize its behaviour within a subclass we can use super() method."
   ]
  },
  {
   "cell_type": "code",
   "execution_count": null,
   "id": "2d8175d8",
   "metadata": {},
   "outputs": [],
   "source": []
  }
 ],
 "metadata": {
  "kernelspec": {
   "display_name": "Python 3 (ipykernel)",
   "language": "python",
   "name": "python3"
  },
  "language_info": {
   "codemirror_mode": {
    "name": "ipython",
    "version": 3
   },
   "file_extension": ".py",
   "mimetype": "text/x-python",
   "name": "python",
   "nbconvert_exporter": "python",
   "pygments_lexer": "ipython3",
   "version": "3.9.12"
  }
 },
 "nbformat": 4,
 "nbformat_minor": 5
}
