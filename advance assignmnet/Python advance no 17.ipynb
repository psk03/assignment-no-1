{
 "cells": [
  {
   "cell_type": "markdown",
   "id": "684b3567",
   "metadata": {},
   "source": [
    "# Assignment 17 Solutions"
   ]
  },
  {
   "cell_type": "markdown",
   "id": "6a33ae5f",
   "metadata": {},
   "source": [
    "### Q1. Explain the difference between greedy and non-greedy syntax with visual terms in as few words as possible. What is the bare minimum effort required to transform a greedy pattern into a non-greedy one? What characters or characters can you introduce or change?"
   ]
  },
  {
   "cell_type": "markdown",
   "id": "150ac6f4",
   "metadata": {},
   "source": [
    "### Ans"
   ]
  },
  {
   "cell_type": "markdown",
   "id": "0aa8b578",
   "metadata": {},
   "source": [
    " The Main difference between Greedy and Non Greedy Match Syntax is The Greedy Match will try to match as many repetitions of the quantified pattern as possible Whereas The Non Greedy Match will try to match as few repetitions of the quantified pattern as possible"
   ]
  },
  {
   "cell_type": "code",
   "execution_count": 1,
   "id": "45d2eb49",
   "metadata": {},
   "outputs": [
    {
     "name": "stdout",
     "output_type": "stream",
     "text": [
      "['vvvvvv', '']\n",
      "['', 'v', '', 'v', '', 'v', '', 'v', '', 'v', '', 'v', '']\n"
     ]
    }
   ],
   "source": [
    "import re\n",
    "print(re.findall(\"v*\", \"vvvvvv\")) # Greedy Match Synatx\n",
    "print(re.findall(\"v*?\", \"vvvvvv\")) # Non Greddy Syntax"
   ]
  },
  {
   "cell_type": "markdown",
   "id": "320806e7",
   "metadata": {},
   "source": [
    "### Q2. When exactly does greedy versus non-greedy make a difference? What if you're looking for a non-greedy match but the only one available is greedy?"
   ]
  },
  {
   "cell_type": "markdown",
   "id": "a7827869",
   "metadata": {},
   "source": [
    "### Ans"
   ]
  },
  {
   "cell_type": "markdown",
   "id": "de8e3ce6",
   "metadata": {},
   "source": [
    "The Greedy Match will try to match as many repetitions of the quantified pattern as possible. The Non Greedy Match will try to match as few repetitions of the quantified pattern as possible. If only Non Greedy Match is available, we can use other filtering or pattern matching methods of regex and further identify the required pattern."
   ]
  },
  {
   "cell_type": "markdown",
   "id": "9be1dc17",
   "metadata": {},
   "source": [
    "### Q3. In a simple match of a string, which looks only for one match and does not do any replacement, is the use of a nontagged group likely to make any practical difference?"
   ]
  },
  {
   "cell_type": "markdown",
   "id": "562b8916",
   "metadata": {},
   "source": [
    "### Ans"
   ]
  },
  {
   "cell_type": "markdown",
   "id": "f03dacd5",
   "metadata": {},
   "source": [
    "In this Case The Non Tagged Group will not make any diffrence in this case."
   ]
  },
  {
   "cell_type": "code",
   "execution_count": 2,
   "id": "acc16c7c",
   "metadata": {},
   "outputs": [
    {
     "name": "stdout",
     "output_type": "stream",
     "text": [
      "Phone number found -> 234\n",
      "Phone number found -> 234\n"
     ]
    }
   ],
   "source": [
    "import re\n",
    "phoneNumRegex = re.compile(r'\\d\\d\\d')\n",
    "num = phoneNumRegex.search('My number is 234-567-8901.')\n",
    "print(f'Phone number found -> {num.group()}') # Non Tagged group\n",
    "print(f'Phone number found -> {num.group(0)}') # Tagged Group"
   ]
  },
  {
   "cell_type": "markdown",
   "id": "decb1c69",
   "metadata": {},
   "source": [
    "### Q4. Describe a scenario in which using a nontagged category would have a significant impact on the program's outcomes ?"
   ]
  },
  {
   "cell_type": "markdown",
   "id": "6bcb004a",
   "metadata": {},
   "source": [
    "### Ans"
   ]
  },
  {
   "cell_type": "markdown",
   "id": "b020dbc3",
   "metadata": {},
   "source": [
    "Here in the below Code Snippet . decimal is not tagged or captured. It will useful in scenarios where the separator of value in a string is of no use and we need to capture only the values."
   ]
  },
  {
   "cell_type": "code",
   "execution_count": 3,
   "id": "72e553af",
   "metadata": {},
   "outputs": [
    {
     "data": {
      "text/plain": [
       "('135', '456')"
      ]
     },
     "execution_count": 3,
     "metadata": {},
     "output_type": "execute_result"
    }
   ],
   "source": [
    "import re\n",
    "text='135.456'\n",
    "pattern=r'(\\d+)(?:.)(\\d+)'\n",
    "regobj=re.compile(pattern)\n",
    "matobj=regobj.search(text)\n",
    "matobj.groups()"
   ]
  },
  {
   "cell_type": "markdown",
   "id": "d114d1d9",
   "metadata": {},
   "source": [
    "### Q5. Unlike a normal regex pattern, a look-ahead condition does not consume the characters it examines. Describe a situation in which this could make a difference in the results of your programme ?"
   ]
  },
  {
   "cell_type": "markdown",
   "id": "99611ef3",
   "metadata": {},
   "source": [
    "### Ans"
   ]
  },
  {
   "cell_type": "markdown",
   "id": "62952188",
   "metadata": {},
   "source": [
    " While counting the number of multiple lines or mutiple sentence in a string the positive look ahead makes a difference, without which we wont get the correct count of lines or sentences in a string."
   ]
  },
  {
   "cell_type": "markdown",
   "id": "72ab6e1c",
   "metadata": {},
   "source": [
    "### Q6. In standard expressions, what is the difference between positive look-ahead and negative look-ahead ?"
   ]
  },
  {
   "cell_type": "markdown",
   "id": "1bfe3260",
   "metadata": {},
   "source": [
    "### Ans"
   ]
  },
  {
   "cell_type": "markdown",
   "id": "e7908a05",
   "metadata": {},
   "source": [
    " Positive Lookahead allows to add a condition for what follows. Negative Lookahead is similar, but it looks behind. That is, it allows to match a pattern only if there’s something before it.\n",
    "\n"
   ]
  },
  {
   "cell_type": "markdown",
   "id": "4b7789a3",
   "metadata": {},
   "source": [
    "### Q7. What is the benefit of referring to groups by name rather than by number in a standard expression?"
   ]
  },
  {
   "cell_type": "markdown",
   "id": "fce10968",
   "metadata": {},
   "source": [
    "### Ans"
   ]
  },
  {
   "cell_type": "markdown",
   "id": "d7e7cc11",
   "metadata": {},
   "source": [
    "Referring to groups by name rather than by number in a standard expression helps to keep the code clear and easy to understand."
   ]
  },
  {
   "cell_type": "markdown",
   "id": "396c0c7b",
   "metadata": {},
   "source": [
    "### Q8. Can you identify repeated items within a target string using named groups, as in \"The cow jumped over the moon\"?"
   ]
  },
  {
   "cell_type": "markdown",
   "id": "cd9b75dc",
   "metadata": {},
   "source": [
    "### Ans"
   ]
  },
  {
   "cell_type": "code",
   "execution_count": 4,
   "id": "e9f5da4a",
   "metadata": {},
   "outputs": [
    {
     "data": {
      "text/plain": [
       "['The', 'the']"
      ]
     },
     "execution_count": 4,
     "metadata": {},
     "output_type": "execute_result"
    }
   ],
   "source": [
    "import re\n",
    "text = \"The cow jumped over the moon\"\n",
    "regobj=re.compile(r'(?P<w1>The)',re.I)\n",
    "regobj.findall(text)"
   ]
  },
  {
   "cell_type": "markdown",
   "id": "56ea5911",
   "metadata": {},
   "source": [
    "### Q9. When parsing a string, what is at least one thing that the Scanner interface does for you that the re.findall feature does not ?"
   ]
  },
  {
   "cell_type": "markdown",
   "id": "41e91b0a",
   "metadata": {},
   "source": [
    "### Ans"
   ]
  },
  {
   "cell_type": "markdown",
   "id": "66a8eff2",
   "metadata": {},
   "source": [
    "re.findall() module is used to search for all occurrences that match a given pattern. In contrast, re.search() will only return the first occurrence that matches the specified pattern. re.findall() will iterate over all the lines of the file and will return all non-overlapping matches of pattern in a single step."
   ]
  },
  {
   "cell_type": "markdown",
   "id": "4f69c639",
   "metadata": {},
   "source": [
    "### Q10. Does a scanner object have to be named scanner?"
   ]
  },
  {
   "cell_type": "markdown",
   "id": "95036f2f",
   "metadata": {},
   "source": [
    "### Ans"
   ]
  },
  {
   "cell_type": "markdown",
   "id": "103ce346",
   "metadata": {},
   "source": [
    "Yes, It may have any name."
   ]
  },
  {
   "cell_type": "code",
   "execution_count": null,
   "id": "13318a65",
   "metadata": {},
   "outputs": [],
   "source": []
  }
 ],
 "metadata": {
  "kernelspec": {
   "display_name": "Python 3 (ipykernel)",
   "language": "python",
   "name": "python3"
  },
  "language_info": {
   "codemirror_mode": {
    "name": "ipython",
    "version": 3
   },
   "file_extension": ".py",
   "mimetype": "text/x-python",
   "name": "python",
   "nbconvert_exporter": "python",
   "pygments_lexer": "ipython3",
   "version": "3.9.12"
  }
 },
 "nbformat": 4,
 "nbformat_minor": 5
}
