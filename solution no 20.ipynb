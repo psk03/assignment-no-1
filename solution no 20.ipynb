{
 "cells": [
  {
   "cell_type": "markdown",
   "id": "9637fbc3",
   "metadata": {},
   "source": [
    "# Assignment 20 Solutions"
   ]
  },
  {
   "cell_type": "markdown",
   "id": "86a202d7",
   "metadata": {},
   "source": [
    "Ans1)"
   ]
  },
  {
   "cell_type": "code",
   "execution_count": 1,
   "id": "e20cd1f5",
   "metadata": {},
   "outputs": [
    {
     "name": "stdout",
     "output_type": "stream",
     "text": [
      "This is a test of the emergency text system,\n"
     ]
    }
   ],
   "source": [
    "test1 = 'This is a test of the emergency text system,'\n",
    "print(test1)\n",
    "with open('test.txt','w') as file:\n",
    "    file.write(test1)\n",
    "    file.close()"
   ]
  },
  {
   "cell_type": "code",
   "execution_count": 2,
   "id": "2892e9c9",
   "metadata": {},
   "outputs": [
    {
     "name": "stdout",
     "output_type": "stream",
     "text": [
      "This is a test of the emergency text system,\n"
     ]
    }
   ],
   "source": [
    "# read the contents of test.txt\n",
    "! type test.txt "
   ]
  },
  {
   "cell_type": "markdown",
   "id": "6533b5c9",
   "metadata": {},
   "source": [
    "Ans2)"
   ]
  },
  {
   "cell_type": "code",
   "execution_count": 3,
   "id": "9d368ea3",
   "metadata": {},
   "outputs": [
    {
     "name": "stdout",
     "output_type": "stream",
     "text": [
      "This is a test of the emergency text system,\n",
      "True\n"
     ]
    }
   ],
   "source": [
    "with open('test.txt','r') as file:\n",
    "    test2 = file.read()\n",
    "    \n",
    "print(test2)   \n",
    "print(test1 == test2)"
   ]
  },
  {
   "cell_type": "markdown",
   "id": "f28506f5",
   "metadata": {},
   "source": [
    "Ans3)"
   ]
  },
  {
   "cell_type": "code",
   "execution_count": 4,
   "id": "7050073d",
   "metadata": {},
   "outputs": [],
   "source": [
    "data = '''title,author,year\n",
    "The Weirdstone of Brisingamen,Alan Garner,1960\n",
    "Perdido Street Station,China Miéville,2000\n",
    "Thud!,Terry Pratchett,2005\n",
    "The Spellman Files,Lisa Lutz,2007\n",
    "Small Gods,Terry Pratchett,1992'''\n",
    "\n",
    "with open('books.csv','w') as file:\n",
    "    file.write(data)"
   ]
  },
  {
   "cell_type": "markdown",
   "id": "5b4a94e7",
   "metadata": {},
   "source": [
    "Ans4)"
   ]
  },
  {
   "cell_type": "code",
   "execution_count": null,
   "id": "64b2995d",
   "metadata": {},
   "outputs": [],
   "source": [
    "import sqlite3\n",
    "db = sqlite3.connect('books.db')\n",
    "cursor = db.cursor()\n",
    "cursor.execute(\"CREATE TABLE books (title text, author text, year int)\")\n",
    "db.commit()\n",
    "db.close()"
   ]
  },
  {
   "cell_type": "markdown",
   "id": "d2bebaa6",
   "metadata": {},
   "source": [
    "Ans5)"
   ]
  },
  {
   "cell_type": "code",
   "execution_count": 16,
   "id": "0627780f",
   "metadata": {},
   "outputs": [],
   "source": [
    "import sqlite3\n",
    "import csv\n",
    "conn = sqlite3.connect(\"books.db\")\n",
    "cursor = conn.cursor()\n",
    "with open(\"books.csv\",\"r\") as file:\n",
    "    books = csv.DictReader(file)\n",
    "    for book in books:\n",
    "        cursor.execute(\"INSERT INTO books VALUES (?,?,?)\",(book['title'],book['author'],book['year']))\n",
    "conn.commit()\n",
    "conn.close()"
   ]
  },
  {
   "cell_type": "markdown",
   "id": "514edcca",
   "metadata": {},
   "source": [
    "Ans6)"
   ]
  },
  {
   "cell_type": "code",
   "execution_count": null,
   "id": "8b5a4349",
   "metadata": {},
   "outputs": [],
   "source": [
    "Ans9)"
   ]
  },
  {
   "cell_type": "code",
   "execution_count": 19,
   "id": "2d78c181",
   "metadata": {},
   "outputs": [
    {
     "name": "stdout",
     "output_type": "stream",
     "text": [
      "Requirement already satisfied: redis in c:\\users\\user\\anaconda3\\lib\\site-packages (4.3.4)\n",
      "Requirement already satisfied: async-timeout>=4.0.2 in c:\\users\\user\\anaconda3\\lib\\site-packages (from redis) (4.0.2)\n",
      "Requirement already satisfied: deprecated>=1.2.3 in c:\\users\\user\\anaconda3\\lib\\site-packages (from redis) (1.2.13)\n",
      "Requirement already satisfied: packaging>=20.4 in c:\\users\\user\\anaconda3\\lib\\site-packages (from redis) (21.3)\n",
      "Requirement already satisfied: wrapt<2,>=1.10 in c:\\users\\user\\anaconda3\\lib\\site-packages (from deprecated>=1.2.3->redis) (1.12.1)\n",
      "Requirement already satisfied: pyparsing!=3.0.5,>=2.0.2 in c:\\users\\user\\anaconda3\\lib\\site-packages (from packaging>=20.4->redis) (3.0.4)\n"
     ]
    }
   ],
   "source": [
    "! python -m pip install redis"
   ]
  },
  {
   "cell_type": "code",
   "execution_count": null,
   "id": "4b09e356",
   "metadata": {},
   "outputs": [],
   "source": [
    "\n"
   ]
  },
  {
   "cell_type": "code",
   "execution_count": null,
   "id": "0ced3284",
   "metadata": {},
   "outputs": [],
   "source": [
    "\n"
   ]
  },
  {
   "cell_type": "code",
   "execution_count": null,
   "id": "4f0017a9",
   "metadata": {},
   "outputs": [],
   "source": []
  }
 ],
 "metadata": {
  "kernelspec": {
   "display_name": "Python 3 (ipykernel)",
   "language": "python",
   "name": "python3"
  },
  "language_info": {
   "codemirror_mode": {
    "name": "ipython",
    "version": 3
   },
   "file_extension": ".py",
   "mimetype": "text/x-python",
   "name": "python",
   "nbconvert_exporter": "python",
   "pygments_lexer": "ipython3",
   "version": "3.9.12"
  }
 },
 "nbformat": 4,
 "nbformat_minor": 5
}
